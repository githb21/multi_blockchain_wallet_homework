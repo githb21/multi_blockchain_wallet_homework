{
 "cells": [
  {
   "cell_type": "code",
   "execution_count": 1,
   "metadata": {},
   "outputs": [],
   "source": [
    "from dotenv import load_dotenv\n",
    "import os\n",
    "import subprocess\n",
    "import json\n",
    "from constants import *\n",
    "from web3 import Web3\n",
    "from eth_account import Account\n",
    "from web3.middleware import geth_poa_middleware\n",
    "from bit import PrivateKeyTestnet\n",
    "from bit.network import NetworkAPI"
   ]
  },
  {
   "cell_type": "code",
   "execution_count": 2,
   "metadata": {},
   "outputs": [],
   "source": [
    "w3 = Web3(Web3.HTTPProvider(\"http://127.0.0.1:8545\"))\n",
    "w3.middleware_onion.inject(geth_poa_middleware, layer=0)\n",
    "\n",
    "load_dotenv()\n",
    "mnemonic = os.getenv(\"mnemonic\")"
   ]
  },
  {
   "cell_type": "code",
   "execution_count": 3,
   "metadata": {},
   "outputs": [
    {
     "name": "stdout",
     "output_type": "stream",
     "text": [
      "{'eth': [{'address': '0x2C145221e72aEe2db8a13d0972924e40f9AEecaA', 'index': 0, 'path': \"m/44'/60'/0'/0/0\", 'privkey': '0xab5bef9b31b0ad43ed6a78e1ab7a40d7d56fc7b1c3aacf17e052058744f50df4', 'pubkey': '03052ded438c70d678c11066c1071c8655f4e0fb9e10d36d6cabc9b25cb31a1d55'}, {'address': '0xedE4f14976fb94D5D189EB34E9DA203460797Bb4', 'index': 1, 'path': \"m/44'/60'/0'/0/1\", 'privkey': '0x88acfd865c254efbef1b9c56450830a3122d420aa618de3f8a41757f0936db38', 'pubkey': '0289aae07a61b9a909c51f17e977a1928537a8bbdba965eeb4b3fa9fa86adb6c2e'}, {'address': '0xB5f6e75B3F4665c34988A35f7bb7D8704dA6a728', 'index': 2, 'path': \"m/44'/60'/0'/0/2\", 'privkey': '0xdd4dbfb8721f57f4158ee0362d201f893ec1f0362c4a40bc0f7bacd5a4c922cd', 'pubkey': '03b2db9c0ad33cd5aebb9edd04cb8578433598cd78e090b96e7842894cdfd87555'}], 'btc-test': [{'address': 'n2i28W1PioB1Y98YdR9nghLaYNcZT13XSJ', 'index': 0, 'path': \"m/44'/1'/0'/0/0\", 'privkey': 'cTwj6dxQaBd9QmTxCMdFAANDMzwi6NWsvhdZHUEnLN9opbhhS9Qi', 'pubkey': '03b9c5655d5740758a09321be11704882661af4cf6e801b13b3d8af07e45984c07'}, {'address': 'mgiZnrBsTeFvnjn2w4mDzPGEqmdFhoXt2N', 'index': 1, 'path': \"m/44'/1'/0'/0/1\", 'privkey': 'cRmPHv4aty35DTqDEnT4uCWABDAZPbu6LDuAaq5hLwsrGrHw9YbH', 'pubkey': '03cfc43da72a560a3be6f411b71b39f735623b7576d2d426f1e7ff24b586aa21af'}, {'address': 'mvMWEoCPq2pTbCC78d9pevonVtnHY5cqmq', 'index': 2, 'path': \"m/44'/1'/0'/0/2\", 'privkey': 'cMtcKzeBdmkekqtikNZLx3Jxr11AXXfab8TaYW9hLDxPpHdHwREZ', 'pubkey': '025a26fbe17a16d5079b04d3cdad77977b3289cb471b460b96c5bdb64506795e00'}]}\n"
     ]
    }
   ],
   "source": [
    "def derive_wallets(coin):\n",
    "    command = f'php derive -g --mnemonic=\"{mnemonic}\" --cols=address,index,path,privkey,pubkey --coin=\"{coin}\" --numderive=3 --format=json'\n",
    "    p = subprocess.Popen(command, stdout=subprocess.PIPE, shell=True)\n",
    "    output, err = p.communicate()\n",
    "    p_status = p.wait()\n",
    "    keys = json.loads(output)\n",
    "    return keys\n",
    "\n",
    "coins = {\n",
    "    ETH: derive_wallets(ETH),\n",
    "    BTCTEST: derive_wallets(BTCTEST)\n",
    "}\n",
    "print(coins)"
   ]
  },
  {
   "cell_type": "code",
   "execution_count": 4,
   "metadata": {},
   "outputs": [],
   "source": [
    "def priv_key_to_account(coin, priv_key):\n",
    "    if coin == ETH:\n",
    "        return Account.privateKeyToAccount(priv_key)\n",
    "    elif coin == BTCTEST:\n",
    "        return PrivateKeyTestnet(priv_key)"
   ]
  },
  {
   "cell_type": "code",
   "execution_count": 5,
   "metadata": {},
   "outputs": [
    {
     "name": "stdout",
     "output_type": "stream",
     "text": [
      "120\n"
     ]
    }
   ],
   "source": [
    "print(w3.eth.blockNumber)"
   ]
  },
  {
   "cell_type": "code",
   "execution_count": 6,
   "metadata": {},
   "outputs": [],
   "source": [
    "def create_tx(coin, account, to, amount):\n",
    "    if coin == ETH:\n",
    "        gasEstimate = w3.eth.estimateGas({\"from\": account.address, \"to\": to, \"value\": amount})\n",
    "        return {\n",
    "            \"from\": account.address,\n",
    "            \"to\": to,\n",
    "            \"value\": amount,\n",
    "            \"gasPrice\": w3.eth.gasPrice,\n",
    "            \"gas\": gasEstimate,\n",
    "            \"nonce\": w3.eth.getTransactionCount(account.address),\n",
    "        }\n",
    "    elif coin == BTCTEST:\n",
    "        return PrivateKeyTestnet.prepare_transaction(account.address, [(to, amount, BTC)])"
   ]
  },
  {
   "cell_type": "code",
   "execution_count": 7,
   "metadata": {},
   "outputs": [],
   "source": [
    "def send_tx(coin, account, to, amount):\n",
    "    tx = create_tx(coin, account, to, amount)\n",
    "    signed_tx = account.sign_transaction(tx)\n",
    "    if coin == ETH:\n",
    "        return w3.eth.sendRawTransaction(signed_tx.rawTransaction)\n",
    "    elif coin == BTCTEST:\n",
    "        return NetworkAPI.broadcast_tx_testnet(signed_tx)"
   ]
  },
  {
   "cell_type": "code",
   "execution_count": 8,
   "metadata": {},
   "outputs": [
    {
     "data": {
      "text/plain": [
       "'0x2C145221e72aEe2db8a13d0972924e40f9AEecaA'"
      ]
     },
     "execution_count": 8,
     "metadata": {},
     "output_type": "execute_result"
    }
   ],
   "source": [
    "eth_account_one = priv_key_to_account(ETH, coins[ETH][0]['privkey'])\n",
    "eth_account_one.address"
   ]
  },
  {
   "cell_type": "code",
   "execution_count": 9,
   "metadata": {},
   "outputs": [
    {
     "data": {
      "text/plain": [
       "'n2i28W1PioB1Y98YdR9nghLaYNcZT13XSJ'"
      ]
     },
     "execution_count": 9,
     "metadata": {},
     "output_type": "execute_result"
    }
   ],
   "source": [
    "btc_account_one = priv_key_to_account(BTCTEST, coins[BTCTEST][0]['privkey'])\n",
    "btc_account_one.address"
   ]
  },
  {
   "cell_type": "code",
   "execution_count": 10,
   "metadata": {},
   "outputs": [
    {
     "name": "stdout",
     "output_type": "stream",
     "text": [
      "mgiZnrBsTeFvnjn2w4mDzPGEqmdFhoXt2N\n"
     ]
    }
   ],
   "source": [
    "btc_address_two = print(coins[BTCTEST][1]['address'])"
   ]
  },
  {
   "cell_type": "code",
   "execution_count": 11,
   "metadata": {},
   "outputs": [
    {
     "name": "stdout",
     "output_type": "stream",
     "text": [
      "0xedE4f14976fb94D5D189EB34E9DA203460797Bb4\n"
     ]
    }
   ],
   "source": [
    "eth_address_two = print(coins[ETH][1]['address'])"
   ]
  },
  {
   "cell_type": "code",
   "execution_count": 12,
   "metadata": {},
   "outputs": [
    {
     "name": "stdout",
     "output_type": "stream",
     "text": [
      "904625697166532776746648320380374280103671755200315806558161352061821325312\n"
     ]
    }
   ],
   "source": [
    "print(w3.eth.getBalance(eth_account_one.address))"
   ]
  },
  {
   "cell_type": "code",
   "execution_count": 13,
   "metadata": {},
   "outputs": [],
   "source": [
    "#send_tx(BTCTEST, btc_account_one, btc_address_two, 0.0002)"
   ]
  },
  {
   "cell_type": "code",
   "execution_count": 14,
   "metadata": {},
   "outputs": [
    {
     "data": {
      "text/plain": [
       "HexBytes('0x31f6094dbd755629ffdfd2e2489896d69c4795d8ab6ea15e7c946f6929fc3677')"
      ]
     },
     "execution_count": 14,
     "metadata": {},
     "output_type": "execute_result"
    }
   ],
   "source": [
    "send_tx(ETH, eth_account_one, eth_address_two, 1000000000000)"
   ]
  }
 ],
 "metadata": {
  "kernelspec": {
   "display_name": "Python 3",
   "language": "python",
   "name": "python3"
  },
  "language_info": {
   "codemirror_mode": {
    "name": "ipython",
    "version": 3
   },
   "file_extension": ".py",
   "mimetype": "text/x-python",
   "name": "python",
   "nbconvert_exporter": "python",
   "pygments_lexer": "ipython3",
   "version": "3.7.9"
  }
 },
 "nbformat": 4,
 "nbformat_minor": 4
}
